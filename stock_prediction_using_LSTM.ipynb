{
 "cells": [
  {
   "cell_type": "markdown",
   "metadata": {
    "id": "NYZcLUhHRJ5n"
   },
   "source": [
    "# stock prediction using LSTM"
   ]
  },
  {
   "cell_type": "markdown",
   "metadata": {
    "id": "Hqu6sbFBRGeq"
   },
   "source": [
    "## Importing the required libraries\n",
    "\n",
    "\n",
    "\n"
   ]
  },
  {
   "cell_type": "code",
   "execution_count": 2,
   "metadata": {
    "id": "Q5jR7HrUQ-ol"
   },
   "outputs": [],
   "source": [
    "import yfinance as yf\n",
    "import numpy as np\n",
    "import pandas as pd\n",
    "import tensorflow as tf\n",
    "import matplotlib.pyplot as plt"
   ]
  },
  {
   "cell_type": "markdown",
   "metadata": {
    "id": "IHR2AsEvRaTr"
   },
   "source": [
    "## Downloading google stock data using yfinance "
   ]
  },
  {
   "cell_type": "code",
   "execution_count": 3,
   "metadata": {
    "colab": {
     "base_uri": "https://localhost:8080/",
     "height": 255
    },
    "id": "q1PkbkhWRNQU",
    "outputId": "23fe04fd-993c-4ef3-f4ef-2faec9099bb1"
   },
   "outputs": [
    {
     "name": "stdout",
     "output_type": "stream",
     "text": [
      "\r",
      "[*********************100%***********************]  1 of 1 completed\n"
     ]
    },
    {
     "data": {
      "text/html": [
       "\n",
       "  <div id=\"df-a255aeca-8453-4670-8d76-fed9b9a9e294\">\n",
       "    <div class=\"colab-df-container\">\n",
       "      <div>\n",
       "<style scoped>\n",
       "    .dataframe tbody tr th:only-of-type {\n",
       "        vertical-align: middle;\n",
       "    }\n",
       "\n",
       "    .dataframe tbody tr th {\n",
       "        vertical-align: top;\n",
       "    }\n",
       "\n",
       "    .dataframe thead th {\n",
       "        text-align: right;\n",
       "    }\n",
       "</style>\n",
       "<table border=\"1\" class=\"dataframe\">\n",
       "  <thead>\n",
       "    <tr style=\"text-align: right;\">\n",
       "      <th></th>\n",
       "      <th>Open</th>\n",
       "      <th>High</th>\n",
       "      <th>Low</th>\n",
       "      <th>Close</th>\n",
       "      <th>Adj Close</th>\n",
       "      <th>Volume</th>\n",
       "    </tr>\n",
       "    <tr>\n",
       "      <th>Date</th>\n",
       "      <th></th>\n",
       "      <th></th>\n",
       "      <th></th>\n",
       "      <th></th>\n",
       "      <th></th>\n",
       "      <th></th>\n",
       "    </tr>\n",
       "  </thead>\n",
       "  <tbody>\n",
       "    <tr>\n",
       "      <th>2019-01-02</th>\n",
       "      <td>51.360001</td>\n",
       "      <td>53.039501</td>\n",
       "      <td>51.264000</td>\n",
       "      <td>52.734001</td>\n",
       "      <td>52.734001</td>\n",
       "      <td>31868000</td>\n",
       "    </tr>\n",
       "    <tr>\n",
       "      <th>2019-01-03</th>\n",
       "      <td>52.533501</td>\n",
       "      <td>53.313000</td>\n",
       "      <td>51.118500</td>\n",
       "      <td>51.273499</td>\n",
       "      <td>51.273499</td>\n",
       "      <td>41960000</td>\n",
       "    </tr>\n",
       "    <tr>\n",
       "      <th>2019-01-04</th>\n",
       "      <td>52.127998</td>\n",
       "      <td>54.000000</td>\n",
       "      <td>51.842999</td>\n",
       "      <td>53.903500</td>\n",
       "      <td>53.903500</td>\n",
       "      <td>46022000</td>\n",
       "    </tr>\n",
       "    <tr>\n",
       "      <th>2019-01-07</th>\n",
       "      <td>54.048500</td>\n",
       "      <td>54.134998</td>\n",
       "      <td>53.132000</td>\n",
       "      <td>53.796001</td>\n",
       "      <td>53.796001</td>\n",
       "      <td>47446000</td>\n",
       "    </tr>\n",
       "    <tr>\n",
       "      <th>2019-01-08</th>\n",
       "      <td>54.299999</td>\n",
       "      <td>54.667500</td>\n",
       "      <td>53.417500</td>\n",
       "      <td>54.268501</td>\n",
       "      <td>54.268501</td>\n",
       "      <td>35414000</td>\n",
       "    </tr>\n",
       "  </tbody>\n",
       "</table>\n",
       "</div>\n",
       "      <button class=\"colab-df-convert\" onclick=\"convertToInteractive('df-a255aeca-8453-4670-8d76-fed9b9a9e294')\"\n",
       "              title=\"Convert this dataframe to an interactive table.\"\n",
       "              style=\"display:none;\">\n",
       "        \n",
       "  <svg xmlns=\"http://www.w3.org/2000/svg\" height=\"24px\"viewBox=\"0 0 24 24\"\n",
       "       width=\"24px\">\n",
       "    <path d=\"M0 0h24v24H0V0z\" fill=\"none\"/>\n",
       "    <path d=\"M18.56 5.44l.94 2.06.94-2.06 2.06-.94-2.06-.94-.94-2.06-.94 2.06-2.06.94zm-11 1L8.5 8.5l.94-2.06 2.06-.94-2.06-.94L8.5 2.5l-.94 2.06-2.06.94zm10 10l.94 2.06.94-2.06 2.06-.94-2.06-.94-.94-2.06-.94 2.06-2.06.94z\"/><path d=\"M17.41 7.96l-1.37-1.37c-.4-.4-.92-.59-1.43-.59-.52 0-1.04.2-1.43.59L10.3 9.45l-7.72 7.72c-.78.78-.78 2.05 0 2.83L4 21.41c.39.39.9.59 1.41.59.51 0 1.02-.2 1.41-.59l7.78-7.78 2.81-2.81c.8-.78.8-2.07 0-2.86zM5.41 20L4 18.59l7.72-7.72 1.47 1.35L5.41 20z\"/>\n",
       "  </svg>\n",
       "      </button>\n",
       "      \n",
       "  <style>\n",
       "    .colab-df-container {\n",
       "      display:flex;\n",
       "      flex-wrap:wrap;\n",
       "      gap: 12px;\n",
       "    }\n",
       "\n",
       "    .colab-df-convert {\n",
       "      background-color: #E8F0FE;\n",
       "      border: none;\n",
       "      border-radius: 50%;\n",
       "      cursor: pointer;\n",
       "      display: none;\n",
       "      fill: #1967D2;\n",
       "      height: 32px;\n",
       "      padding: 0 0 0 0;\n",
       "      width: 32px;\n",
       "    }\n",
       "\n",
       "    .colab-df-convert:hover {\n",
       "      background-color: #E2EBFA;\n",
       "      box-shadow: 0px 1px 2px rgba(60, 64, 67, 0.3), 0px 1px 3px 1px rgba(60, 64, 67, 0.15);\n",
       "      fill: #174EA6;\n",
       "    }\n",
       "\n",
       "    [theme=dark] .colab-df-convert {\n",
       "      background-color: #3B4455;\n",
       "      fill: #D2E3FC;\n",
       "    }\n",
       "\n",
       "    [theme=dark] .colab-df-convert:hover {\n",
       "      background-color: #434B5C;\n",
       "      box-shadow: 0px 1px 3px 1px rgba(0, 0, 0, 0.15);\n",
       "      filter: drop-shadow(0px 1px 2px rgba(0, 0, 0, 0.3));\n",
       "      fill: #FFFFFF;\n",
       "    }\n",
       "  </style>\n",
       "\n",
       "      <script>\n",
       "        const buttonEl =\n",
       "          document.querySelector('#df-a255aeca-8453-4670-8d76-fed9b9a9e294 button.colab-df-convert');\n",
       "        buttonEl.style.display =\n",
       "          google.colab.kernel.accessAllowed ? 'block' : 'none';\n",
       "\n",
       "        async function convertToInteractive(key) {\n",
       "          const element = document.querySelector('#df-a255aeca-8453-4670-8d76-fed9b9a9e294');\n",
       "          const dataTable =\n",
       "            await google.colab.kernel.invokeFunction('convertToInteractive',\n",
       "                                                     [key], {});\n",
       "          if (!dataTable) return;\n",
       "\n",
       "          const docLinkHtml = 'Like what you see? Visit the ' +\n",
       "            '<a target=\"_blank\" href=https://colab.research.google.com/notebooks/data_table.ipynb>data table notebook</a>'\n",
       "            + ' to learn more about interactive tables.';\n",
       "          element.innerHTML = '';\n",
       "          dataTable['output_type'] = 'display_data';\n",
       "          await google.colab.output.renderOutput(dataTable, element);\n",
       "          const docLink = document.createElement('div');\n",
       "          docLink.innerHTML = docLinkHtml;\n",
       "          element.appendChild(docLink);\n",
       "        }\n",
       "      </script>\n",
       "    </div>\n",
       "  </div>\n",
       "  "
      ],
      "text/plain": [
       "                 Open       High        Low      Close  Adj Close    Volume\n",
       "Date                                                                       \n",
       "2019-01-02  51.360001  53.039501  51.264000  52.734001  52.734001  31868000\n",
       "2019-01-03  52.533501  53.313000  51.118500  51.273499  51.273499  41960000\n",
       "2019-01-04  52.127998  54.000000  51.842999  53.903500  53.903500  46022000\n",
       "2019-01-07  54.048500  54.134998  53.132000  53.796001  53.796001  47446000\n",
       "2019-01-08  54.299999  54.667500  53.417500  54.268501  54.268501  35414000"
      ]
     },
     "execution_count": 3,
     "metadata": {},
     "output_type": "execute_result"
    }
   ],
   "source": [
    "data = yf.download(\"GOOGL\" , start = \"2019-01-01\" , interval = '1d')\n",
    "data.head()"
   ]
  },
  {
   "cell_type": "code",
   "execution_count": 4,
   "metadata": {
    "colab": {
     "base_uri": "https://localhost:8080/"
    },
    "id": "RI43qqf1ReC0",
    "outputId": "4be55b66-7e27-443d-e902-e4bfcdd5d4f9"
   },
   "outputs": [
    {
     "name": "stdout",
     "output_type": "stream",
     "text": [
      "<class 'pandas.core.frame.DataFrame'>\n",
      "DatetimeIndex: 941 entries, 2019-01-02 to 2022-09-26\n",
      "Data columns (total 6 columns):\n",
      " #   Column     Non-Null Count  Dtype  \n",
      "---  ------     --------------  -----  \n",
      " 0   Open       941 non-null    float64\n",
      " 1   High       941 non-null    float64\n",
      " 2   Low        941 non-null    float64\n",
      " 3   Close      941 non-null    float64\n",
      " 4   Adj Close  941 non-null    float64\n",
      " 5   Volume     941 non-null    int64  \n",
      "dtypes: float64(5), int64(1)\n",
      "memory usage: 51.5 KB\n"
     ]
    }
   ],
   "source": [
    "data.info()"
   ]
  },
  {
   "cell_type": "code",
   "execution_count": 5,
   "metadata": {
    "colab": {
     "base_uri": "https://localhost:8080/"
    },
    "id": "IYqS6icJRpRY",
    "outputId": "e2f46867-0f33-486f-ad52-18847c275c15"
   },
   "outputs": [
    {
     "data": {
      "text/plain": [
       "False"
      ]
     },
     "execution_count": 5,
     "metadata": {},
     "output_type": "execute_result"
    }
   ],
   "source": [
    "# checking for any duplicate values\n",
    "data.duplicated().any()"
   ]
  },
  {
   "cell_type": "code",
   "execution_count": 6,
   "metadata": {
    "id": "9-AYCGdGRhT4"
   },
   "outputs": [],
   "source": [
    "data[\"Close\"]=pd.to_numeric(data.Close,errors='coerce')"
   ]
  },
  {
   "cell_type": "code",
   "execution_count": 7,
   "metadata": {
    "colab": {
     "base_uri": "https://localhost:8080/"
    },
    "id": "0DujZf8BR8v4",
    "outputId": "25fa11ca-fec0-40c9-dcce-883a33eb3df4"
   },
   "outputs": [
    {
     "data": {
      "text/plain": [
       "0"
      ]
     },
     "execution_count": 7,
     "metadata": {},
     "output_type": "execute_result"
    }
   ],
   "source": [
    "data.isnull().sum().sum()"
   ]
  },
  {
   "cell_type": "code",
   "execution_count": 8,
   "metadata": {
    "colab": {
     "base_uri": "https://localhost:8080/",
     "height": 300
    },
    "id": "LyRTiJVISAWV",
    "outputId": "760db462-7920-4d26-bcfa-2a2b4de9c774"
   },
   "outputs": [
    {
     "data": {
      "text/html": [
       "\n",
       "  <div id=\"df-9a8ebf05-f5c7-43f6-8663-a62f5b28eb39\">\n",
       "    <div class=\"colab-df-container\">\n",
       "      <div>\n",
       "<style scoped>\n",
       "    .dataframe tbody tr th:only-of-type {\n",
       "        vertical-align: middle;\n",
       "    }\n",
       "\n",
       "    .dataframe tbody tr th {\n",
       "        vertical-align: top;\n",
       "    }\n",
       "\n",
       "    .dataframe thead th {\n",
       "        text-align: right;\n",
       "    }\n",
       "</style>\n",
       "<table border=\"1\" class=\"dataframe\">\n",
       "  <thead>\n",
       "    <tr style=\"text-align: right;\">\n",
       "      <th></th>\n",
       "      <th>Open</th>\n",
       "      <th>High</th>\n",
       "      <th>Low</th>\n",
       "      <th>Close</th>\n",
       "      <th>Adj Close</th>\n",
       "      <th>Volume</th>\n",
       "    </tr>\n",
       "  </thead>\n",
       "  <tbody>\n",
       "    <tr>\n",
       "      <th>count</th>\n",
       "      <td>941.000000</td>\n",
       "      <td>941.000000</td>\n",
       "      <td>941.000000</td>\n",
       "      <td>941.000000</td>\n",
       "      <td>941.000000</td>\n",
       "      <td>9.410000e+02</td>\n",
       "    </tr>\n",
       "    <tr>\n",
       "      <th>mean</th>\n",
       "      <td>92.908635</td>\n",
       "      <td>93.915499</td>\n",
       "      <td>91.896454</td>\n",
       "      <td>92.934592</td>\n",
       "      <td>92.934592</td>\n",
       "      <td>3.400962e+07</td>\n",
       "    </tr>\n",
       "    <tr>\n",
       "      <th>std</th>\n",
       "      <td>31.161472</td>\n",
       "      <td>31.445069</td>\n",
       "      <td>30.778178</td>\n",
       "      <td>31.092989</td>\n",
       "      <td>31.092989</td>\n",
       "      <td>1.558321e+07</td>\n",
       "    </tr>\n",
       "    <tr>\n",
       "      <th>min</th>\n",
       "      <td>51.360001</td>\n",
       "      <td>52.500000</td>\n",
       "      <td>50.443501</td>\n",
       "      <td>51.273499</td>\n",
       "      <td>51.273499</td>\n",
       "      <td>7.842567e+06</td>\n",
       "    </tr>\n",
       "    <tr>\n",
       "      <th>25%</th>\n",
       "      <td>63.286999</td>\n",
       "      <td>63.787498</td>\n",
       "      <td>62.598499</td>\n",
       "      <td>63.215000</td>\n",
       "      <td>63.215000</td>\n",
       "      <td>2.412600e+07</td>\n",
       "    </tr>\n",
       "    <tr>\n",
       "      <th>50%</th>\n",
       "      <td>86.337997</td>\n",
       "      <td>87.299500</td>\n",
       "      <td>85.509003</td>\n",
       "      <td>86.380997</td>\n",
       "      <td>86.380997</td>\n",
       "      <td>3.039200e+07</td>\n",
       "    </tr>\n",
       "    <tr>\n",
       "      <th>75%</th>\n",
       "      <td>119.100998</td>\n",
       "      <td>120.208000</td>\n",
       "      <td>117.813004</td>\n",
       "      <td>119.015503</td>\n",
       "      <td>119.015503</td>\n",
       "      <td>3.841200e+07</td>\n",
       "    </tr>\n",
       "    <tr>\n",
       "      <th>max</th>\n",
       "      <td>151.250000</td>\n",
       "      <td>151.546494</td>\n",
       "      <td>148.899002</td>\n",
       "      <td>149.838501</td>\n",
       "      <td>149.838501</td>\n",
       "      <td>1.331780e+08</td>\n",
       "    </tr>\n",
       "  </tbody>\n",
       "</table>\n",
       "</div>\n",
       "      <button class=\"colab-df-convert\" onclick=\"convertToInteractive('df-9a8ebf05-f5c7-43f6-8663-a62f5b28eb39')\"\n",
       "              title=\"Convert this dataframe to an interactive table.\"\n",
       "              style=\"display:none;\">\n",
       "        \n",
       "  <svg xmlns=\"http://www.w3.org/2000/svg\" height=\"24px\"viewBox=\"0 0 24 24\"\n",
       "       width=\"24px\">\n",
       "    <path d=\"M0 0h24v24H0V0z\" fill=\"none\"/>\n",
       "    <path d=\"M18.56 5.44l.94 2.06.94-2.06 2.06-.94-2.06-.94-.94-2.06-.94 2.06-2.06.94zm-11 1L8.5 8.5l.94-2.06 2.06-.94-2.06-.94L8.5 2.5l-.94 2.06-2.06.94zm10 10l.94 2.06.94-2.06 2.06-.94-2.06-.94-.94-2.06-.94 2.06-2.06.94z\"/><path d=\"M17.41 7.96l-1.37-1.37c-.4-.4-.92-.59-1.43-.59-.52 0-1.04.2-1.43.59L10.3 9.45l-7.72 7.72c-.78.78-.78 2.05 0 2.83L4 21.41c.39.39.9.59 1.41.59.51 0 1.02-.2 1.41-.59l7.78-7.78 2.81-2.81c.8-.78.8-2.07 0-2.86zM5.41 20L4 18.59l7.72-7.72 1.47 1.35L5.41 20z\"/>\n",
       "  </svg>\n",
       "      </button>\n",
       "      \n",
       "  <style>\n",
       "    .colab-df-container {\n",
       "      display:flex;\n",
       "      flex-wrap:wrap;\n",
       "      gap: 12px;\n",
       "    }\n",
       "\n",
       "    .colab-df-convert {\n",
       "      background-color: #E8F0FE;\n",
       "      border: none;\n",
       "      border-radius: 50%;\n",
       "      cursor: pointer;\n",
       "      display: none;\n",
       "      fill: #1967D2;\n",
       "      height: 32px;\n",
       "      padding: 0 0 0 0;\n",
       "      width: 32px;\n",
       "    }\n",
       "\n",
       "    .colab-df-convert:hover {\n",
       "      background-color: #E2EBFA;\n",
       "      box-shadow: 0px 1px 2px rgba(60, 64, 67, 0.3), 0px 1px 3px 1px rgba(60, 64, 67, 0.15);\n",
       "      fill: #174EA6;\n",
       "    }\n",
       "\n",
       "    [theme=dark] .colab-df-convert {\n",
       "      background-color: #3B4455;\n",
       "      fill: #D2E3FC;\n",
       "    }\n",
       "\n",
       "    [theme=dark] .colab-df-convert:hover {\n",
       "      background-color: #434B5C;\n",
       "      box-shadow: 0px 1px 3px 1px rgba(0, 0, 0, 0.15);\n",
       "      filter: drop-shadow(0px 1px 2px rgba(0, 0, 0, 0.3));\n",
       "      fill: #FFFFFF;\n",
       "    }\n",
       "  </style>\n",
       "\n",
       "      <script>\n",
       "        const buttonEl =\n",
       "          document.querySelector('#df-9a8ebf05-f5c7-43f6-8663-a62f5b28eb39 button.colab-df-convert');\n",
       "        buttonEl.style.display =\n",
       "          google.colab.kernel.accessAllowed ? 'block' : 'none';\n",
       "\n",
       "        async function convertToInteractive(key) {\n",
       "          const element = document.querySelector('#df-9a8ebf05-f5c7-43f6-8663-a62f5b28eb39');\n",
       "          const dataTable =\n",
       "            await google.colab.kernel.invokeFunction('convertToInteractive',\n",
       "                                                     [key], {});\n",
       "          if (!dataTable) return;\n",
       "\n",
       "          const docLinkHtml = 'Like what you see? Visit the ' +\n",
       "            '<a target=\"_blank\" href=https://colab.research.google.com/notebooks/data_table.ipynb>data table notebook</a>'\n",
       "            + ' to learn more about interactive tables.';\n",
       "          element.innerHTML = '';\n",
       "          dataTable['output_type'] = 'display_data';\n",
       "          await google.colab.output.renderOutput(dataTable, element);\n",
       "          const docLink = document.createElement('div');\n",
       "          docLink.innerHTML = docLinkHtml;\n",
       "          element.appendChild(docLink);\n",
       "        }\n",
       "      </script>\n",
       "    </div>\n",
       "  </div>\n",
       "  "
      ],
      "text/plain": [
       "             Open        High         Low       Close   Adj Close  \\\n",
       "count  941.000000  941.000000  941.000000  941.000000  941.000000   \n",
       "mean    92.908635   93.915499   91.896454   92.934592   92.934592   \n",
       "std     31.161472   31.445069   30.778178   31.092989   31.092989   \n",
       "min     51.360001   52.500000   50.443501   51.273499   51.273499   \n",
       "25%     63.286999   63.787498   62.598499   63.215000   63.215000   \n",
       "50%     86.337997   87.299500   85.509003   86.380997   86.380997   \n",
       "75%    119.100998  120.208000  117.813004  119.015503  119.015503   \n",
       "max    151.250000  151.546494  148.899002  149.838501  149.838501   \n",
       "\n",
       "             Volume  \n",
       "count  9.410000e+02  \n",
       "mean   3.400962e+07  \n",
       "std    1.558321e+07  \n",
       "min    7.842567e+06  \n",
       "25%    2.412600e+07  \n",
       "50%    3.039200e+07  \n",
       "75%    3.841200e+07  \n",
       "max    1.331780e+08  "
      ]
     },
     "execution_count": 8,
     "metadata": {},
     "output_type": "execute_result"
    }
   ],
   "source": [
    "# Get the statistics of the data\n",
    "data.describe()"
   ]
  },
  {
   "cell_type": "code",
   "execution_count": 9,
   "metadata": {
    "colab": {
     "base_uri": "https://localhost:8080/",
     "height": 265
    },
    "id": "13iatWs2SMvD",
    "outputId": "fc9fadaa-27e9-475d-a3f9-50d1445d17c8"
   },
   "outputs": [
    {
     "data": {
      "image/png": "[encoded data removed]",
      "text/plain": [
       "<Figure size 432x288 with 1 Axes>"
      ]
     },
     "metadata": {
      "needs_background": "light"
     },
     "output_type": "display_data"
    }
   ],
   "source": [
    "# plot the 'Close' feature  \n",
    "plt.plot(data.index, data['Close'], color = 'green', label = 'Close')\n",
    "plt.show()"
   ]
  },
  {
   "cell_type": "markdown",
   "metadata": {
    "id": "Ry5bIP5xSzCK"
   },
   "source": [
    "## Data processing"
   ]
  },
  {
   "cell_type": "code",
   "execution_count": 10,
   "metadata": {
    "colab": {
     "base_uri": "https://localhost:8080/"
    },
    "id": "am1nwlBmSloS",
    "outputId": "2b969c66-953a-4f79-cf59-b4a9e0643b9d"
   },
   "outputs": [
    {
     "data": {
      "text/plain": [
       "(941, 1)"
      ]
     },
     "execution_count": 10,
     "metadata": {},
     "output_type": "execute_result"
    }
   ],
   "source": [
    "# saving 'Close' feature in a variable name dataV1, since we only need that\n",
    "dataV1 = data.iloc[:,3:4]\n",
    "dataV1 = dataV1.values\n",
    "dataV1.shape"
   ]
  },
  {
   "cell_type": "code",
   "execution_count": 11,
   "metadata": {
    "colab": {
     "base_uri": "https://localhost:8080/"
    },
    "id": "MuJee2b3TJbT",
    "outputId": "7f72c6ad-135a-419b-d125-adf4350bf1ff"
   },
   "outputs": [
    {
     "data": {
      "text/plain": [
       "(941, 1)"
      ]
     },
     "execution_count": 11,
     "metadata": {},
     "output_type": "execute_result"
    }
   ],
   "source": [
    "from sklearn.preprocessing import MinMaxScaler\n",
    "\n",
    "# normalizing the data\n",
    "Scaler = MinMaxScaler(feature_range=(0,1))\n",
    "dataV1 = Scaler.fit_transform(dataV1)\n",
    "dataV1.shape"
   ]
  },
  {
   "cell_type": "code",
   "execution_count": 12,
   "metadata": {
    "id": "Cy2SVa-8TZh2"
   },
   "outputs": [],
   "source": [
    "# declaring feature length\n",
    "feature_length = 100"
   ]
  },
  {
   "cell_type": "code",
   "execution_count": 13,
   "metadata": {
    "id": "F9jlRu7pTkHe"
   },
   "outputs": [],
   "source": [
    "# Function to create x and y data\n",
    "def Create_Features_and_Targets(data, feature_length):\n",
    "  X = list()\n",
    "  Y = list()\n",
    "  for i in range(len(data) - feature_length -1):\n",
    "    X.append(data[i:(i + feature_length), 0])\n",
    "    Y.append(data[i + feature_length, 0])\n",
    "  X = np.array(X)\n",
    "  Y = np.array(Y)\n",
    "  return X,Y"
   ]
  },
  {
   "cell_type": "code",
   "execution_count": 14,
   "metadata": {
    "id": "_r7gl4TSTt5G"
   },
   "outputs": [],
   "source": [
    "X_train, y_train = Create_Features_and_Targets(dataV1, feature_length)"
   ]
  },
  {
   "cell_type": "code",
   "execution_count": 15,
   "metadata": {
    "id": "0oDOLeTMTvxg"
   },
   "outputs": [],
   "source": [
    "# Making data 3 dimensional\n",
    "X_train = np.reshape(X_train,(X_train.shape[0],X_train.shape[1],1))"
   ]
  },
  {
   "cell_type": "code",
   "execution_count": 16,
   "metadata": {
    "colab": {
     "base_uri": "https://localhost:8080/"
    },
    "id": "uMQ851kwT3EG",
    "outputId": "5663c9fc-7040-4026-e1ce-e293d0ebaced"
   },
   "outputs": [
    {
     "data": {
      "text/plain": [
       "((840, 100, 1), (840,))"
      ]
     },
     "execution_count": 16,
     "metadata": {},
     "output_type": "execute_result"
    }
   ],
   "source": [
    "X_train.shape, y_train.shape"
   ]
  },
  {
   "cell_type": "markdown",
   "metadata": {
    "id": "hcuJzIM3T9ye"
   },
   "source": [
    "## Creating the model"
   ]
  },
  {
   "cell_type": "code",
   "execution_count": 17,
   "metadata": {
    "id": "bjzNCKuIT4wO"
   },
   "outputs": [],
   "source": [
    "from tensorflow.keras.models import Sequential\n",
    "from tensorflow.keras.layers import Dense , Dropout , LSTM"
   ]
  },
  {
   "cell_type": "code",
   "execution_count": 18,
   "metadata": {
    "id": "qec6dFkeUAgJ"
   },
   "outputs": [],
   "source": [
    "# model\n",
    "model = Sequential([\n",
    "    LSTM(100, return_sequences = True, input_shape =(X_train.shape[1],1)),\n",
    "    Dropout(0.3),\n",
    "\n",
    "    LSTM(100, return_sequences = False),\n",
    "    Dropout(0.3),\n",
    "    Dense(1),\n",
    "])\n",
    "model.compile(optimizer='adam',loss=\"mean_squared_error\")"
   ]
  },
  {
   "cell_type": "code",
   "execution_count": 19,
   "metadata": {
    "colab": {
     "base_uri": "https://localhost:8080/"
    },
    "id": "Io4DWrPgUCXk",
    "outputId": "08c4b963-aad7-4f47-f554-8c70694ecdd1"
   },
   "outputs": [
    {
     "name": "stdout",
     "output_type": "stream",
     "text": [
      "Model: \"sequential\"\n",
      "_________________________________________________________________\n",
      " Layer (type)                Output Shape              Param #   \n",
      "=================================================================\n",
      " lstm (LSTM)                 (None, 100, 100)          40800     \n",
      "                                                                 \n",
      " dropout (Dropout)           (None, 100, 100)          0         \n",
      "                                                                 \n",
      " lstm_1 (LSTM)               (None, 100)               80400     \n",
      "                                                                 \n",
      " dropout_1 (Dropout)         (None, 100)               0         \n",
      "                                                                 \n",
      " dense (Dense)               (None, 1)                 101       \n",
      "                                                                 \n",
      "=================================================================\n",
      "Total params: 121,301\n",
      "Trainable params: 121,301\n",
      "Non-trainable params: 0\n",
      "_________________________________________________________________\n"
     ]
    }
   ],
   "source": [
    "model.summary()"
   ]
  },
  {
   "cell_type": "code",
   "execution_count": 20,
   "metadata": {
    "colab": {
     "base_uri": "https://localhost:8080/"
    },
    "id": "DVceKfNhUDsc",
    "outputId": "6e9fcdda-6e71-44d6-f421-fe9ea4106a5b"
   },
   "outputs": [
    {
     "name": "stdout",
     "output_type": "stream",
     "text": [
      "Epoch 1/100\n",
      "70/70 [==============================] - 14s 149ms/step - loss: 0.0244\n",
      "Epoch 2/100\n",
      "70/70 [==============================] - 10s 138ms/step - loss: 0.0041\n",
      "Epoch 3/100\n",
      "70/70 [==============================] - 7s 94ms/step - loss: 0.0040\n",
      "Epoch 4/100\n",
      "70/70 [==============================] - 7s 97ms/step - loss: 0.0035\n",
      "Epoch 5/100\n",
      "70/70 [==============================] - 7s 96ms/step - loss: 0.0040\n",
      "Epoch 6/100\n",
      "70/70 [==============================] - 7s 96ms/step - loss: 0.0038\n",
      "Epoch 7/100\n",
      "70/70 [==============================] - 7s 96ms/step - loss: 0.0036\n",
      "Epoch 8/100\n",
      "70/70 [==============================] - 7s 96ms/step - loss: 0.0031\n",
      "Epoch 9/100\n",
      "70/70 [==============================] - 7s 96ms/step - loss: 0.0033\n",
      "Epoch 10/100\n",
      "70/70 [==============================] - 7s 96ms/step - loss: 0.0034\n",
      "Epoch 11/100\n",
      "70/70 [==============================] - 7s 97ms/step - loss: 0.0033\n",
      "Epoch 12/100\n",
      "70/70 [==============================] - 7s 95ms/step - loss: 0.0031\n",
      "Epoch 13/100\n",
      "70/70 [==============================] - 8s 109ms/step - loss: 0.0032\n",
      "Epoch 14/100\n",
      "70/70 [==============================] - 7s 96ms/step - loss: 0.0032\n",
      "Epoch 15/100\n",
      "70/70 [==============================] - 7s 97ms/step - loss: 0.0027\n",
      "Epoch 16/100\n",
      "70/70 [==============================] - 7s 96ms/step - loss: 0.0027\n",
      "Epoch 17/100\n",
      "70/70 [==============================] - 7s 94ms/step - loss: 0.0033\n",
      "Epoch 18/100\n",
      "70/70 [==============================] - 7s 95ms/step - loss: 0.0031\n",
      "Epoch 19/100\n",
      "70/70 [==============================] - 7s 95ms/step - loss: 0.0023\n",
      "Epoch 20/100\n",
      "70/70 [==============================] - 7s 95ms/step - loss: 0.0026\n",
      "Epoch 21/100\n",
      "70/70 [==============================] - 7s 95ms/step - loss: 0.0024\n",
      "Epoch 22/100\n",
      "70/70 [==============================] - 7s 95ms/step - loss: 0.0022\n",
      "Epoch 23/100\n",
      "70/70 [==============================] - 7s 96ms/step - loss: 0.0024\n",
      "Epoch 24/100\n",
      "70/70 [==============================] - 7s 95ms/step - loss: 0.0025\n",
      "Epoch 25/100\n",
      "70/70 [==============================] - 7s 96ms/step - loss: 0.0025\n",
      "Epoch 26/100\n",
      "70/70 [==============================] - 7s 96ms/step - loss: 0.0027\n",
      "Epoch 27/100\n",
      "70/70 [==============================] - 7s 94ms/step - loss: 0.0023\n",
      "Epoch 28/100\n",
      "70/70 [==============================] - 7s 95ms/step - loss: 0.0025\n",
      "Epoch 29/100\n",
      "70/70 [==============================] - 7s 96ms/step - loss: 0.0021\n",
      "Epoch 30/100\n",
      "70/70 [==============================] - 7s 96ms/step - loss: 0.0021\n",
      "Epoch 31/100\n",
      "70/70 [==============================] - 7s 95ms/step - loss: 0.0021\n",
      "Epoch 32/100\n",
      "70/70 [==============================] - 7s 95ms/step - loss: 0.0021\n",
      "Epoch 33/100\n",
      "70/70 [==============================] - 7s 95ms/step - loss: 0.0022\n",
      "Epoch 34/100\n",
      "70/70 [==============================] - 7s 97ms/step - loss: 0.0021\n",
      "Epoch 35/100\n",
      "70/70 [==============================] - 7s 97ms/step - loss: 0.0021\n",
      "Epoch 36/100\n",
      "70/70 [==============================] - 7s 96ms/step - loss: 0.0021\n",
      "Epoch 37/100\n",
      "70/70 [==============================] - 7s 95ms/step - loss: 0.0021\n",
      "Epoch 38/100\n",
      "70/70 [==============================] - 7s 95ms/step - loss: 0.0018\n",
      "Epoch 39/100\n",
      "70/70 [==============================] - 7s 95ms/step - loss: 0.0019\n",
      "Epoch 40/100\n",
      "70/70 [==============================] - 7s 95ms/step - loss: 0.0017\n",
      "Epoch 41/100\n",
      "70/70 [==============================] - 7s 95ms/step - loss: 0.0018\n",
      "Epoch 42/100\n",
      "70/70 [==============================] - 7s 95ms/step - loss: 0.0020\n",
      "Epoch 43/100\n",
      "70/70 [==============================] - 7s 95ms/step - loss: 0.0019\n",
      "Epoch 44/100\n",
      "70/70 [==============================] - 7s 95ms/step - loss: 0.0018\n",
      "Epoch 45/100\n",
      "70/70 [==============================] - 7s 100ms/step - loss: 0.0019\n",
      "Epoch 46/100\n",
      "70/70 [==============================] - 7s 95ms/step - loss: 0.0020\n",
      "Epoch 47/100\n",
      "70/70 [==============================] - 7s 95ms/step - loss: 0.0016\n",
      "Epoch 48/100\n",
      "70/70 [==============================] - 7s 95ms/step - loss: 0.0019\n",
      "Epoch 49/100\n",
      "70/70 [==============================] - 7s 95ms/step - loss: 0.0018\n",
      "Epoch 50/100\n",
      "70/70 [==============================] - 7s 95ms/step - loss: 0.0016\n",
      "Epoch 51/100\n",
      "70/70 [==============================] - 7s 94ms/step - loss: 0.0015\n",
      "Epoch 52/100\n",
      "70/70 [==============================] - 7s 95ms/step - loss: 0.0019\n",
      "Epoch 53/100\n",
      "70/70 [==============================] - 7s 95ms/step - loss: 0.0018\n",
      "Epoch 54/100\n",
      "70/70 [==============================] - 7s 95ms/step - loss: 0.0017\n",
      "Epoch 55/100\n",
      "70/70 [==============================] - 7s 95ms/step - loss: 0.0015\n",
      "Epoch 56/100\n",
      "70/70 [==============================] - 7s 96ms/step - loss: 0.0017\n",
      "Epoch 57/100\n",
      "70/70 [==============================] - 7s 96ms/step - loss: 0.0017\n",
      "Epoch 58/100\n",
      "70/70 [==============================] - 7s 96ms/step - loss: 0.0016\n",
      "Epoch 59/100\n",
      "70/70 [==============================] - 7s 95ms/step - loss: 0.0015\n",
      "Epoch 60/100\n",
      "70/70 [==============================] - 7s 96ms/step - loss: 0.0015\n",
      "Epoch 61/100\n",
      "70/70 [==============================] - 7s 95ms/step - loss: 0.0016\n",
      "Epoch 62/100\n",
      "70/70 [==============================] - 7s 96ms/step - loss: 0.0014\n",
      "Epoch 63/100\n",
      "70/70 [==============================] - 7s 96ms/step - loss: 0.0014\n",
      "Epoch 64/100\n",
      "70/70 [==============================] - 7s 97ms/step - loss: 0.0016\n",
      "Epoch 65/100\n",
      "70/70 [==============================] - 7s 96ms/step - loss: 0.0017\n",
      "Epoch 66/100\n",
      "70/70 [==============================] - 7s 96ms/step - loss: 0.0015\n",
      "Epoch 67/100\n",
      "70/70 [==============================] - 7s 95ms/step - loss: 0.0013\n",
      "Epoch 68/100\n",
      "70/70 [==============================] - 9s 124ms/step - loss: 0.0014\n",
      "Epoch 69/100\n",
      "70/70 [==============================] - 10s 145ms/step - loss: 0.0014\n",
      "Epoch 70/100\n",
      "70/70 [==============================] - 7s 95ms/step - loss: 0.0015\n",
      "Epoch 71/100\n",
      "70/70 [==============================] - 7s 96ms/step - loss: 0.0015\n",
      "Epoch 72/100\n",
      "70/70 [==============================] - 7s 94ms/step - loss: 0.0015\n",
      "Epoch 73/100\n",
      "70/70 [==============================] - 7s 96ms/step - loss: 0.0014\n",
      "Epoch 74/100\n",
      "70/70 [==============================] - 7s 95ms/step - loss: 0.0013\n",
      "Epoch 75/100\n",
      "70/70 [==============================] - 7s 95ms/step - loss: 0.0015\n",
      "Epoch 76/100\n",
      "70/70 [==============================] - 7s 95ms/step - loss: 0.0015\n",
      "Epoch 77/100\n",
      "70/70 [==============================] - 7s 94ms/step - loss: 0.0013\n",
      "Epoch 78/100\n",
      "70/70 [==============================] - 7s 96ms/step - loss: 0.0014\n",
      "Epoch 79/100\n",
      "70/70 [==============================] - 7s 103ms/step - loss: 0.0013\n",
      "Epoch 80/100\n",
      "70/70 [==============================] - 7s 96ms/step - loss: 0.0014\n",
      "Epoch 81/100\n",
      "70/70 [==============================] - 7s 96ms/step - loss: 0.0016\n",
      "Epoch 82/100\n",
      "70/70 [==============================] - 7s 96ms/step - loss: 0.0014\n",
      "Epoch 83/100\n",
      "70/70 [==============================] - 7s 96ms/step - loss: 0.0014\n",
      "Epoch 84/100\n",
      "70/70 [==============================] - 7s 96ms/step - loss: 0.0014\n",
      "Epoch 85/100\n",
      "70/70 [==============================] - 7s 95ms/step - loss: 0.0014\n",
      "Epoch 86/100\n",
      "70/70 [==============================] - 7s 96ms/step - loss: 0.0014\n",
      "Epoch 87/100\n",
      "70/70 [==============================] - 7s 96ms/step - loss: 0.0013\n",
      "Epoch 88/100\n",
      "70/70 [==============================] - 7s 94ms/step - loss: 0.0014\n",
      "Epoch 89/100\n",
      "70/70 [==============================] - 7s 95ms/step - loss: 0.0014\n",
      "Epoch 90/100\n",
      "70/70 [==============================] - 7s 95ms/step - loss: 0.0014\n",
      "Epoch 91/100\n",
      "70/70 [==============================] - 7s 96ms/step - loss: 0.0014\n",
      "Epoch 92/100\n",
      "70/70 [==============================] - 7s 96ms/step - loss: 0.0014\n",
      "Epoch 93/100\n",
      "70/70 [==============================] - 7s 96ms/step - loss: 0.0014\n",
      "Epoch 94/100\n",
      "70/70 [==============================] - 7s 96ms/step - loss: 0.0014\n",
      "Epoch 95/100\n",
      "70/70 [==============================] - 7s 96ms/step - loss: 0.0017\n",
      "Epoch 96/100\n",
      "70/70 [==============================] - 7s 96ms/step - loss: 0.0013\n",
      "Epoch 97/100\n",
      "70/70 [==============================] - 7s 95ms/step - loss: 0.0013\n",
      "Epoch 98/100\n",
      "70/70 [==============================] - 7s 96ms/step - loss: 0.0013\n",
      "Epoch 99/100\n",
      "70/70 [==============================] - 7s 96ms/step - loss: 0.0011\n",
      "Epoch 100/100\n",
      "70/70 [==============================] - 7s 96ms/step - loss: 0.0014\n"
     ]
    }
   ],
   "source": [
    "# Training the model\n",
    "history = model.fit(\n",
    "    X_train, \n",
    "    y_train, \n",
    "    epochs = 100, \n",
    "    batch_size = 12, \n",
    "    verbose=1,\n",
    ")"
   ]
  },
  {
   "cell_type": "code",
   "execution_count": 21,
   "metadata": {
    "colab": {
     "base_uri": "https://localhost:8080/",
     "height": 295
    },
    "id": "uSKw-Xn6UM4p",
    "outputId": "2570434c-d946-4deb-a8fa-6eea6a0501eb"
   },
   "outputs": [
    {
     "data": {
      "image/png": "[encoded data removed]",
      "text/plain": [
       "<Figure size 432x288 with 1 Axes>"
      ]
     },
     "metadata": {
      "needs_background": "light"
     },
     "output_type": "display_data"
    }
   ],
   "source": [
    "# plotting the loss from the training model\n",
    "plt.plot(history.history['loss'])\n",
    "plt.title('Training model loss')\n",
    "plt.ylabel('loss')\n",
    "plt.xlabel('epoch')\n",
    "plt.show()"
   ]
  },
  {
   "cell_type": "markdown",
   "metadata": {
    "id": "VPlMmeoTUZB7"
   },
   "source": [
    "## Testing and making predictions"
   ]
  },
  {
   "cell_type": "code",
   "execution_count": 22,
   "metadata": {
    "colab": {
     "base_uri": "https://localhost:8080/"
    },
    "id": "hyENDF9MUaJt",
    "outputId": "a1733e04-bc2a-4c4f-bbcc-897d880bc381"
   },
   "outputs": [
    {
     "data": {
      "text/plain": [
       "((840, 1), (941, 1))"
      ]
     },
     "execution_count": 22,
     "metadata": {},
     "output_type": "execute_result"
    }
   ],
   "source": [
    "testData = data.iloc[:,3:4] # Get 'Close' feature\n",
    "y_real = testData.iloc[feature_length+1:,0:].values # Actual Stock values\n",
    "x_test = testData.iloc[:,0:].values  # values from whole data to test\n",
    "y_real.shape, x_test.shape"
   ]
  },
  {
   "cell_type": "code",
   "execution_count": 23,
   "metadata": {
    "colab": {
     "base_uri": "https://localhost:8080/"
    },
    "id": "zXOmuuu_UxP-",
    "outputId": "102b7e1d-d1ce-4cac-c1a0-5396e4d2d62e"
   },
   "outputs": [
    {
     "data": {
      "text/plain": [
       "(941, 1)"
      ]
     },
     "execution_count": 23,
     "metadata": {},
     "output_type": "execute_result"
    }
   ],
   "source": [
    "# normalizing the Data using Scaler.transform function\n",
    "x_test = Scaler.transform(x_test)\n",
    "x_test.shape"
   ]
  },
  {
   "cell_type": "code",
   "execution_count": 24,
   "metadata": {
    "colab": {
     "base_uri": "https://localhost:8080/"
    },
    "id": "nBcmxVRXUxOA",
    "outputId": "f1edfd53-1349-44c1-9e77-dc8bd62e6149"
   },
   "outputs": [
    {
     "data": {
      "text/plain": [
       "(840, 100, 1)"
      ]
     },
     "execution_count": 24,
     "metadata": {},
     "output_type": "execute_result"
    }
   ],
   "source": [
    "x_test, y_test = Create_Features_and_Targets(x_test, feature_length)\n",
    "x_test = np.reshape(x_test,(x_test.shape[0],x_test.shape[1],1)) # Making data 3 dimensional \n",
    "x_test.shape"
   ]
  },
  {
   "cell_type": "code",
   "execution_count": 25,
   "metadata": {
    "id": "2emcIrPyVSl_"
   },
   "outputs": [],
   "source": [
    "# making predictions\n",
    "y_pred = model.predict(x_test)"
   ]
  },
  {
   "cell_type": "code",
   "execution_count": 26,
   "metadata": {
    "id": "ud516GPDViKv"
   },
   "outputs": [],
   "source": [
    "predicted_price = Scaler.inverse_transform(y_pred)"
   ]
  },
  {
   "cell_type": "code",
   "execution_count": 27,
   "metadata": {
    "colab": {
     "base_uri": "https://localhost:8080/",
     "height": 279
    },
    "id": "Gr2Bfp_6VkL2",
    "outputId": "a999a828-78d9-4aec-d845-98975bec979a"
   },
   "outputs": [
    {
     "data": {
      "image/png": "[encoded data removed]",
      "text/plain": [
       "<Figure size 432x288 with 1 Axes>"
      ]
     },
     "metadata": {
      "needs_background": "light"
     },
     "output_type": "display_data"
    }
   ],
   "source": [
    "# plotting the Actual Stock Price and the Predicted Stock Price\n",
    "plt.plot(y_real, color = 'red', label = 'Actual')\n",
    "plt.plot(predicted_price, color = 'green', label = 'Predicted')\n",
    "\n",
    "plt.xlabel('Time')\n",
    "plt.ylabel('Stock')\n",
    "plt.legend()\n",
    "plt.show()"
   ]
  },
  {
   "cell_type": "markdown",
   "metadata": {
    "id": "aqGoBPB5V0Nb"
   },
   "source": [
    "## Real-time predictions"
   ]
  },
  {
   "cell_type": "code",
   "execution_count": 28,
   "metadata": {
    "id": "q0MVzc7CV1C4"
   },
   "outputs": [],
   "source": [
    "def predict_given_date(data, date, feature_length):\n",
    "  if date not in data.index:\n",
    "    data.loc[pd.Timestamp(date)] = 0\n",
    "  idx = data.index.get_loc(date)\n",
    "  close_col = data.iloc[:,3:4]\n",
    "  close_col = close_col.iloc[idx - feature_length : idx,:].values\n",
    "  close_col = np.expand_dims(Scaler.transform(close_col) , axis = 0)\n",
    "  Prediction = model.predict(close_col)\n",
    "  Prediction = Scaler.inverse_transform(Prediction)\n",
    "  return Prediction"
   ]
  },
  {
   "cell_type": "code",
   "execution_count": 34,
   "metadata": {
    "colab": {
     "base_uri": "https://localhost:8080/"
    },
    "id": "VdptOJfZV_QJ",
    "outputId": "0cbba2fa-9a96-4fd3-df48-ce3bf7028483"
   },
   "outputs": [
    {
     "data": {
      "text/plain": [
       "array([[103.89344]], dtype=float32)"
      ]
     },
     "execution_count": 34,
     "metadata": {},
     "output_type": "execute_result"
    }
   ],
   "source": [
    "predict_given_date(data, '2022-09-20', feature_length)"
   ]
  },
  {
   "cell_type": "markdown",
   "metadata": {
    "id": "Yv8jBr4_WIZ_"
   },
   "source": [
    "Here we can see our model predicted '101.7007' to the given data which is 2022-09-20, well lets check if its any closer to the actuval price value of that given date. This peace of code do just that."
   ]
  },
  {
   "cell_type": "code",
   "execution_count": 35,
   "metadata": {
    "colab": {
     "base_uri": "https://localhost:8080/"
    },
    "id": "g4tr57AOWgE4",
    "outputId": "54f813bf-c746-4d12-bcf8-af2e53cc46c1"
   },
   "outputs": [
    {
     "data": {
      "text/plain": [
       "Date\n",
       "2022-09-20    101.139999\n",
       "Name: Close, dtype: float64"
      ]
     },
     "execution_count": 35,
     "metadata": {},
     "output_type": "execute_result"
    }
   ],
   "source": [
    "# only gives the dates that already exists in the dataset\n",
    "l = data.index.get_loc('2022-09-20')\n",
    "data.iloc[l: l+1,:]['Close']\n",
    "# well we can see the predicted value is very close"
   ]
  }
 ],
 "metadata": {
  "accelerator": "GPU",
  "colab": {
   "collapsed_sections": [],
   "provenance": []
  },
  "kernelspec": {
   "display_name": "Python 3 (ipykernel)",
   "language": "python",
   "name": "python3"
  },
  "language_info": {
   "codemirror_mode": {
    "name": "ipython",
    "version": 3
   },
   "file_extension": ".py",
   "mimetype": "text/x-python",
   "name": "python",
   "nbconvert_exporter": "python",
   "pygments_lexer": "ipython3",
   "version": "3.9.7"
  }
 },
 "nbformat": 4,
 "nbformat_minor": 1
}
